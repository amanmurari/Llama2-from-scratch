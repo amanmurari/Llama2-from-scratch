{
 "cells": [
  {
   "cell_type": "code",
   "execution_count": 1,
   "id": "ff1138cf",
   "metadata": {},
   "outputs": [],
   "source": [
    "import pandas as pd\n",
    "import numpy as np\n",
    "import tiktoken\n",
    "import torch\n",
    "from torch.utils.data import Dataset,DataLoader\n"
   ]
  },
  {
   "cell_type": "code",
   "execution_count": 5,
   "id": "c4fc5d58",
   "metadata": {},
   "outputs": [
    {
     "data": {
      "text/plain": [
       "torch.Size([10])"
      ]
     },
     "execution_count": 5,
     "metadata": {},
     "output_type": "execute_result"
    }
   ],
   "source": [
    "torch.argmax(torch.tensor([[0.2285, 0.2285, 0.3848, 0.1572],\n",
    "        [0.2285, 0.2285, 0.3848, 0.1572],\n",
    "        [0.2285, 0.2285, 0.3848, 0.1572],\n",
    "        [0.2285, 0.2285, 0.3848, 0.1572],\n",
    "        [0.2285, 0.2285, 0.3848, 0.1572],\n",
    "        [0.2285, 0.2285, 0.3848, 0.1572],\n",
    "        [0.2285, 0.2285, 0.3848, 0.1572],\n",
    "        [0.2285, 0.2285, 0.3848, 0.1572],\n",
    "        [0.2285, 0.2285, 0.3848, 0.1572],\n",
    "        [0.2285, 0.2285, 0.3867, 0.1562]], dtype=torch.bfloat16),dim=-1).shape"
   ]
  },
  {
   "cell_type": "code",
   "execution_count": 2,
   "id": "3f5a2c8c",
   "metadata": {},
   "outputs": [],
   "source": [
    "df = pd.read_csv(\"../data/twitter_training.csv\",names=['a','company','label','text'])"
   ]
  },
  {
   "cell_type": "code",
   "execution_count": 3,
   "id": "23de436d",
   "metadata": {},
   "outputs": [
    {
     "data": {
      "text/html": [
       "<div>\n",
       "<style scoped>\n",
       "    .dataframe tbody tr th:only-of-type {\n",
       "        vertical-align: middle;\n",
       "    }\n",
       "\n",
       "    .dataframe tbody tr th {\n",
       "        vertical-align: top;\n",
       "    }\n",
       "\n",
       "    .dataframe thead th {\n",
       "        text-align: right;\n",
       "    }\n",
       "</style>\n",
       "<table border=\"1\" class=\"dataframe\">\n",
       "  <thead>\n",
       "    <tr style=\"text-align: right;\">\n",
       "      <th></th>\n",
       "      <th>a</th>\n",
       "      <th>company</th>\n",
       "      <th>label</th>\n",
       "      <th>text</th>\n",
       "    </tr>\n",
       "  </thead>\n",
       "  <tbody>\n",
       "    <tr>\n",
       "      <th>0</th>\n",
       "      <td>2401</td>\n",
       "      <td>Borderlands</td>\n",
       "      <td>Positive</td>\n",
       "      <td>im getting on borderlands and i will murder yo...</td>\n",
       "    </tr>\n",
       "    <tr>\n",
       "      <th>1</th>\n",
       "      <td>2401</td>\n",
       "      <td>Borderlands</td>\n",
       "      <td>Positive</td>\n",
       "      <td>I am coming to the borders and I will kill you...</td>\n",
       "    </tr>\n",
       "    <tr>\n",
       "      <th>2</th>\n",
       "      <td>2401</td>\n",
       "      <td>Borderlands</td>\n",
       "      <td>Positive</td>\n",
       "      <td>im getting on borderlands and i will kill you ...</td>\n",
       "    </tr>\n",
       "    <tr>\n",
       "      <th>3</th>\n",
       "      <td>2401</td>\n",
       "      <td>Borderlands</td>\n",
       "      <td>Positive</td>\n",
       "      <td>im coming on borderlands and i will murder you...</td>\n",
       "    </tr>\n",
       "    <tr>\n",
       "      <th>4</th>\n",
       "      <td>2401</td>\n",
       "      <td>Borderlands</td>\n",
       "      <td>Positive</td>\n",
       "      <td>im getting on borderlands 2 and i will murder ...</td>\n",
       "    </tr>\n",
       "  </tbody>\n",
       "</table>\n",
       "</div>"
      ],
      "text/plain": [
       "      a      company     label  \\\n",
       "0  2401  Borderlands  Positive   \n",
       "1  2401  Borderlands  Positive   \n",
       "2  2401  Borderlands  Positive   \n",
       "3  2401  Borderlands  Positive   \n",
       "4  2401  Borderlands  Positive   \n",
       "\n",
       "                                                text  \n",
       "0  im getting on borderlands and i will murder yo...  \n",
       "1  I am coming to the borders and I will kill you...  \n",
       "2  im getting on borderlands and i will kill you ...  \n",
       "3  im coming on borderlands and i will murder you...  \n",
       "4  im getting on borderlands 2 and i will murder ...  "
      ]
     },
     "execution_count": 3,
     "metadata": {},
     "output_type": "execute_result"
    }
   ],
   "source": [
    "df.head()\n"
   ]
  },
  {
   "cell_type": "code",
   "execution_count": 4,
   "id": "699a81d9",
   "metadata": {},
   "outputs": [
    {
     "data": {
      "text/plain": [
       "array(['Positive', 'Neutral', 'Negative', 'Irrelevant'], dtype=object)"
      ]
     },
     "execution_count": 4,
     "metadata": {},
     "output_type": "execute_result"
    }
   ],
   "source": [
    "df.label.unique()"
   ]
  },
  {
   "cell_type": "code",
   "execution_count": 5,
   "id": "030069aa",
   "metadata": {},
   "outputs": [],
   "source": [
    "def mapper(col):\n",
    "    unique=df.col.unique()\n",
    "    "
   ]
  },
  {
   "cell_type": "code",
   "execution_count": 6,
   "id": "2cbedd05",
   "metadata": {},
   "outputs": [],
   "source": [
    "uni= df.label.unique()\n",
    "d={uni[i]: i for i in range(len(uni))}"
   ]
  },
  {
   "cell_type": "code",
   "execution_count": 7,
   "id": "1b6597cd",
   "metadata": {},
   "outputs": [
    {
     "ename": "SyntaxError",
     "evalue": "can't use starred expression here (2278755055.py, line 1)",
     "output_type": "error",
     "traceback": [
      "  \u001b[36mCell\u001b[39m\u001b[36m \u001b[39m\u001b[32mIn[7]\u001b[39m\u001b[32m, line 1\u001b[39m\n\u001b[31m    \u001b[39m\u001b[31m*uni\u001b[39m\n    ^\n\u001b[31mSyntaxError\u001b[39m\u001b[31m:\u001b[39m can't use starred expression here\n"
     ]
    }
   ],
   "source": [
    "*uni"
   ]
  },
  {
   "cell_type": "code",
   "execution_count": 8,
   "id": "6049f831",
   "metadata": {},
   "outputs": [],
   "source": [
    "df[\"labeli\"]=df[\"label\"].map(d)"
   ]
  },
  {
   "cell_type": "code",
   "execution_count": 9,
   "id": "8360111b",
   "metadata": {},
   "outputs": [
    {
     "data": {
      "text/html": [
       "<div>\n",
       "<style scoped>\n",
       "    .dataframe tbody tr th:only-of-type {\n",
       "        vertical-align: middle;\n",
       "    }\n",
       "\n",
       "    .dataframe tbody tr th {\n",
       "        vertical-align: top;\n",
       "    }\n",
       "\n",
       "    .dataframe thead th {\n",
       "        text-align: right;\n",
       "    }\n",
       "</style>\n",
       "<table border=\"1\" class=\"dataframe\">\n",
       "  <thead>\n",
       "    <tr style=\"text-align: right;\">\n",
       "      <th></th>\n",
       "      <th>a</th>\n",
       "      <th>company</th>\n",
       "      <th>label</th>\n",
       "      <th>text</th>\n",
       "      <th>labeli</th>\n",
       "    </tr>\n",
       "  </thead>\n",
       "  <tbody>\n",
       "    <tr>\n",
       "      <th>32616</th>\n",
       "      <td>7595</td>\n",
       "      <td>LeagueOfLegends</td>\n",
       "      <td>Negative</td>\n",
       "      <td>@discord  @RiotSupport  @Mortdog  @kami_banani...</td>\n",
       "      <td>2</td>\n",
       "    </tr>\n",
       "    <tr>\n",
       "      <th>21126</th>\n",
       "      <td>4017</td>\n",
       "      <td>CS-GO</td>\n",
       "      <td>Neutral</td>\n",
       "      <td>Since when did I think renaming the bomb to “T...</td>\n",
       "      <td>1</td>\n",
       "    </tr>\n",
       "    <tr>\n",
       "      <th>25573</th>\n",
       "      <td>4790</td>\n",
       "      <td>Google</td>\n",
       "      <td>Negative</td>\n",
       "      <td>.. please update your Google Maps.. It has giv...</td>\n",
       "      <td>2</td>\n",
       "    </tr>\n",
       "    <tr>\n",
       "      <th>921</th>\n",
       "      <td>2563</td>\n",
       "      <td>Borderlands</td>\n",
       "      <td>Neutral</td>\n",
       "      <td>The RhandlerR is my first piece of fan made Bo...</td>\n",
       "      <td>1</td>\n",
       "    </tr>\n",
       "    <tr>\n",
       "      <th>46056</th>\n",
       "      <td>11905</td>\n",
       "      <td>Verizon</td>\n",
       "      <td>Positive</td>\n",
       "      <td>Need for speed? Verizon, Ericsson and Qualcomm...</td>\n",
       "      <td>0</td>\n",
       "    </tr>\n",
       "    <tr>\n",
       "      <th>25744</th>\n",
       "      <td>819</td>\n",
       "      <td>AssassinsCreed</td>\n",
       "      <td>Negative</td>\n",
       "      <td>@Ubisoft @assassinscreed Please Please Make Yo...</td>\n",
       "      <td>2</td>\n",
       "    </tr>\n",
       "    <tr>\n",
       "      <th>22537</th>\n",
       "      <td>4258</td>\n",
       "      <td>CS-GO</td>\n",
       "      <td>Irrelevant</td>\n",
       "      <td>CSGO Except at odds with a pile of shit runnin...</td>\n",
       "      <td>3</td>\n",
       "    </tr>\n",
       "    <tr>\n",
       "      <th>44301</th>\n",
       "      <td>11610</td>\n",
       "      <td>Verizon</td>\n",
       "      <td>Negative</td>\n",
       "      <td>Funny how this feature is not HUGE during each...</td>\n",
       "      <td>2</td>\n",
       "    </tr>\n",
       "    <tr>\n",
       "      <th>20248</th>\n",
       "      <td>12667</td>\n",
       "      <td>WorldOfCraft</td>\n",
       "      <td>Neutral</td>\n",
       "      <td>I probably just earned the [... Brutally Dedic...</td>\n",
       "      <td>1</td>\n",
       "    </tr>\n",
       "    <tr>\n",
       "      <th>25101</th>\n",
       "      <td>4709</td>\n",
       "      <td>Google</td>\n",
       "      <td>Neutral</td>\n",
       "      <td>Our favourite smart home devices that aren't d...</td>\n",
       "      <td>1</td>\n",
       "    </tr>\n",
       "  </tbody>\n",
       "</table>\n",
       "</div>"
      ],
      "text/plain": [
       "           a          company       label  \\\n",
       "32616   7595  LeagueOfLegends    Negative   \n",
       "21126   4017            CS-GO     Neutral   \n",
       "25573   4790           Google    Negative   \n",
       "921     2563      Borderlands     Neutral   \n",
       "46056  11905          Verizon    Positive   \n",
       "25744    819   AssassinsCreed    Negative   \n",
       "22537   4258            CS-GO  Irrelevant   \n",
       "44301  11610          Verizon    Negative   \n",
       "20248  12667     WorldOfCraft     Neutral   \n",
       "25101   4709           Google     Neutral   \n",
       "\n",
       "                                                    text  labeli  \n",
       "32616  @discord  @RiotSupport  @Mortdog  @kami_banani...       2  \n",
       "21126  Since when did I think renaming the bomb to “T...       1  \n",
       "25573  .. please update your Google Maps.. It has giv...       2  \n",
       "921    The RhandlerR is my first piece of fan made Bo...       1  \n",
       "46056  Need for speed? Verizon, Ericsson and Qualcomm...       0  \n",
       "25744  @Ubisoft @assassinscreed Please Please Make Yo...       2  \n",
       "22537  CSGO Except at odds with a pile of shit runnin...       3  \n",
       "44301  Funny how this feature is not HUGE during each...       2  \n",
       "20248  I probably just earned the [... Brutally Dedic...       1  \n",
       "25101  Our favourite smart home devices that aren't d...       1  "
      ]
     },
     "execution_count": 9,
     "metadata": {},
     "output_type": "execute_result"
    }
   ],
   "source": [
    "df.sample(10)"
   ]
  },
  {
   "cell_type": "code",
   "execution_count": null,
   "id": "6b1a533e",
   "metadata": {},
   "outputs": [],
   "source": []
  },
  {
   "cell_type": "code",
   "execution_count": 10,
   "id": "f8129648",
   "metadata": {},
   "outputs": [],
   "source": [
    "tokenizer= tiktoken.get_encoding(\"gpt2\")"
   ]
  },
  {
   "cell_type": "code",
   "execution_count": 11,
   "id": "94155b76",
   "metadata": {},
   "outputs": [
    {
     "name": "stdout",
     "output_type": "stream",
     "text": [
      "<class 'pandas.core.frame.DataFrame'>\n",
      "RangeIndex: 74682 entries, 0 to 74681\n",
      "Data columns (total 5 columns):\n",
      " #   Column   Non-Null Count  Dtype \n",
      "---  ------   --------------  ----- \n",
      " 0   a        74682 non-null  int64 \n",
      " 1   company  74682 non-null  object\n",
      " 2   label    74682 non-null  object\n",
      " 3   text     73996 non-null  object\n",
      " 4   labeli   74682 non-null  int64 \n",
      "dtypes: int64(2), object(3)\n",
      "memory usage: 2.8+ MB\n"
     ]
    }
   ],
   "source": [
    "df.info()"
   ]
  },
  {
   "cell_type": "code",
   "execution_count": 12,
   "id": "38a5c2e5",
   "metadata": {},
   "outputs": [
    {
     "data": {
      "text/plain": [
       "50257"
      ]
     },
     "execution_count": 12,
     "metadata": {},
     "output_type": "execute_result"
    }
   ],
   "source": [
    "tokenizer.n_vocab"
   ]
  },
  {
   "cell_type": "code",
   "execution_count": 13,
   "id": "4cf72f94",
   "metadata": {},
   "outputs": [
    {
     "data": {
      "text/plain": [
       "np.int64(0)"
      ]
     },
     "execution_count": 13,
     "metadata": {},
     "output_type": "execute_result"
    }
   ],
   "source": [
    "df[~df.text.isna()].text.isna().sum()"
   ]
  },
  {
   "cell_type": "code",
   "execution_count": null,
   "id": "b68b1850",
   "metadata": {},
   "outputs": [],
   "source": []
  },
  {
   "cell_type": "code",
   "execution_count": 14,
   "id": "1cc95490",
   "metadata": {},
   "outputs": [],
   "source": [
    "class ClassifyData(Dataset):\n",
    "    def __init__(self,csv,tokenizer,max_length=None, pad_token_id=50256):\n",
    "        df = self._df_process(csv)\n",
    "        self.input_ids=[tokenizer.encode(text) for text in df[\"text\"]]\n",
    "        self.output_ids=[ids for ids in df['labeli']]\n",
    "        if max_length is None:\n",
    "           max_length= max([len(i) for i in self.input_ids])\n",
    "        print(max_length)\n",
    "        self.input_ids=[\n",
    "            inputs[:max_length]\n",
    "            for inputs in self.input_ids\n",
    "        ]\n",
    "        self.encoded= [\n",
    "            inputs+[pad_token_id]*(max_length-len(inputs))\n",
    "            for inputs in self.input_ids\n",
    "        ]\n",
    "\n",
    "\n",
    "    def __len__(self):\n",
    "        return df.shape[0]\n",
    "\n",
    "    def __getitem__(self, index):\n",
    "        return (\n",
    "           torch.tensor(self.encoded[index],dtype=torch.long),\n",
    "            torch.tensor(self.output_ids[index],dtype=torch.long)\n",
    "        )\n",
    "        \n",
    "    def _df_process(self,csv) -> pd.DataFrame:\n",
    "        df = pd.read_csv(csv,names=['a','company','label','text'])\n",
    "        df=df[~df.text.isna()]\n",
    "        df=df[~df.label.isna()]\n",
    "        uni= df.label.unique()\n",
    "        d={uni[i]: i for i in range(len(uni))}\n",
    "        self.classes=d\n",
    "        df[\"labeli\"]=df[\"label\"].map(d)\n",
    "        return df\n",
    "\n",
    "\n",
    "        \n"
   ]
  },
  {
   "cell_type": "code",
   "execution_count": 15,
   "id": "fa4d952e",
   "metadata": {},
   "outputs": [
    {
     "name": "stdout",
     "output_type": "stream",
     "text": [
      "346\n"
     ]
    }
   ],
   "source": [
    "data= ClassifyData(\"../data/twitter_training.csv\",tokenizer)\n"
   ]
  },
  {
   "cell_type": "code",
   "execution_count": 16,
   "id": "5db61f13",
   "metadata": {},
   "outputs": [
    {
     "data": {
      "text/plain": [
       "torch.Size([346])"
      ]
     },
     "execution_count": 16,
     "metadata": {},
     "output_type": "execute_result"
    }
   ],
   "source": [
    "data[0][0].shape"
   ]
  },
  {
   "cell_type": "code",
   "execution_count": 17,
   "id": "fb8b993b",
   "metadata": {},
   "outputs": [
    {
     "name": "stderr",
     "output_type": "stream",
     "text": [
      "c:\\Users\\amanm\\OneDrive\\Documents\\code\\py\\llm_gpt\\venvv\\Lib\\site-packages\\torch\\utils\\data\\dataloader.py:626: UserWarning: This DataLoader will create 13 worker processes in total. Our suggested max number of worker in current system is 12 (`cpuset` is not taken into account), which is smaller than what this DataLoader is going to create. Please be aware that excessive worker creation might get DataLoader running slow or even freeze, lower the worker number to avoid potential slowness/freeze if necessary.\n",
      "  warnings.warn(\n"
     ]
    }
   ],
   "source": [
    "dl= DataLoader(data,128,True,num_workers=13)"
   ]
  },
  {
   "cell_type": "code",
   "execution_count": null,
   "id": "40592a68",
   "metadata": {},
   "outputs": [
    {
     "ename": "ModuleNotFoundError",
     "evalue": "No module named 'model'",
     "output_type": "error",
     "traceback": [
      "\u001b[31m---------------------------------------------------------------------------\u001b[39m",
      "\u001b[31mModuleNotFoundError\u001b[39m                       Traceback (most recent call last)",
      "\u001b[36mCell\u001b[39m\u001b[36m \u001b[39m\u001b[32mIn[21]\u001b[39m\u001b[32m, line 1\u001b[39m\n\u001b[32m----> \u001b[39m\u001b[32m1\u001b[39m \u001b[38;5;28;01mfrom\u001b[39;00m\u001b[38;5;250m \u001b[39m\u001b[34;01mmodel\u001b[39;00m\u001b[38;5;250m \u001b[39m\u001b[38;5;28;01mimport\u001b[39;00m Llama2Model\n\u001b[32m      2\u001b[39m \u001b[38;5;28;01mfrom\u001b[39;00m\u001b[38;5;250m \u001b[39m\u001b[34;01mtorch\u001b[39;00m\u001b[38;5;250m \u001b[39m\u001b[38;5;28;01mimport\u001b[39;00m nn\n\u001b[32m      3\u001b[39m \u001b[38;5;28;01mfrom\u001b[39;00m\u001b[38;5;250m \u001b[39m\u001b[34;01m.\u001b[39;00m\u001b[34;01m.\u001b[39;00m\u001b[34;01mconfig\u001b[39;00m\u001b[38;5;250m \u001b[39m\u001b[38;5;28;01mimport\u001b[39;00m LLAMA2_CONFIG_7B\n",
      "\u001b[31mModuleNotFoundError\u001b[39m: No module named 'model'"
     ]
    }
   ],
   "source": [
    "from model import Llama2Model\n",
    "from torch import nn\n",
    "from config import LLAMA2_CONFIG_7B\n"
   ]
  },
  {
   "cell_type": "code",
   "execution_count": null,
   "id": "6fcdb5dd",
   "metadata": {},
   "outputs": [],
   "source": [
    "tokenizer = tiktoken.get_encoding(\"gpt2\")\n",
    "device=\"cuda\" if torch.cuda.is_available() else \"cpu\"\n",
    "model= Llama2Model(LLAMA2_CONFIG_7B).to(device)\n",
    "for parms in model.parameters():\n",
    "    parms.requires_grad=False\n",
    "\n",
    "model.out_head= nn.Linear(LLAMA2_CONFIG_7B[\"emb_dim\"],len(data.classes))\n",
    "\n",
    "for parms in model.trf_blocks[-1].parameters():\n",
    "    parms.requires_grad=True\n",
    "\n",
    "for parms in model.final_norm.parameters():\n",
    "    parms.requires_grad=True\n"
   ]
  },
  {
   "cell_type": "code",
   "execution_count": 1,
   "id": "a349d8a2",
   "metadata": {},
   "outputs": [],
   "source": [
    "di={1:2,2:3}"
   ]
  },
  {
   "cell_type": "code",
   "execution_count": 2,
   "id": "58c9279b",
   "metadata": {},
   "outputs": [
    {
     "data": {
      "text/plain": [
       "2"
      ]
     },
     "execution_count": 2,
     "metadata": {},
     "output_type": "execute_result"
    }
   ],
   "source": [
    "di[1]"
   ]
  },
  {
   "cell_type": "code",
   "execution_count": null,
   "id": "9f184b8b",
   "metadata": {},
   "outputs": [],
   "source": []
  }
 ],
 "metadata": {
  "kernelspec": {
   "display_name": "venvv",
   "language": "python",
   "name": "python3"
  },
  "language_info": {
   "codemirror_mode": {
    "name": "ipython",
    "version": 3
   },
   "file_extension": ".py",
   "mimetype": "text/x-python",
   "name": "python",
   "nbconvert_exporter": "python",
   "pygments_lexer": "ipython3",
   "version": "3.11.12"
  }
 },
 "nbformat": 4,
 "nbformat_minor": 5
}
